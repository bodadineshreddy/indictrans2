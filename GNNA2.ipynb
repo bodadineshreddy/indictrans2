{
  "nbformat": 4,
  "nbformat_minor": 0,
  "metadata": {
    "colab": {
      "provenance": [],
      "gpuType": "T4",
      "include_colab_link": true
    },
    "kernelspec": {
      "name": "python3",
      "display_name": "Python 3"
    },
    "language_info": {
      "name": "python"
    },
    "accelerator": "GPU"
  },
  "cells": [
    {
      "cell_type": "markdown",
      "metadata": {
        "id": "view-in-github",
        "colab_type": "text"
      },
      "source": [
        "<a href=\"https://colab.research.google.com/github/bodadineshreddy/indictrans2/blob/main/GNNA2.ipynb\" target=\"_parent\"><img src=\"https://colab.research.google.com/assets/colab-badge.svg\" alt=\"Open In Colab\"/></a>"
      ]
    },
    {
      "cell_type": "code",
      "source": [
        "%%capture\n",
        "!pip uninstall torch-scatter torch-cluster torch-spline-conv torch-sparse -y\n",
        "!pip install torch-scatter torch-cluster torch-spline-conv torch-sparse -f https://data.pyg.org/whl/torch-2.1.0+cu121.html\n",
        "!pip install torch-geometric ogb\n",
        "!pip install torch torchvision torchaudio --index-url https://download.pytorch.org/whl/cu121\n",
        "\n",
        "\n"
      ],
      "metadata": {
        "id": "FHqTpBHWQCCy"
      },
      "execution_count": 2,
      "outputs": []
    },
    {
      "cell_type": "code",
      "source": [
        "import torch\n",
        "print(torch.__version__)"
      ],
      "metadata": {
        "colab": {
          "base_uri": "https://localhost:8080/"
        },
        "id": "bIlyQxJwTZU-",
        "outputId": "5f7fb48e-1de3-4b63-8e01-fc55d1365387"
      },
      "execution_count": 3,
      "outputs": [
        {
          "output_type": "stream",
          "name": "stdout",
          "text": [
            "2.5.1+cu124\n"
          ]
        }
      ]
    },
    {
      "cell_type": "code",
      "source": [
        "import ogb.utils.url  # Import the full module so you can access ogb.utils.url\n",
        "\n",
        "# Override the decide_download function to skip user input\n",
        "def decide_download(url):\n",
        "    print(f\"Auto-approving download for: {url}\")\n",
        "    return True\n",
        "\n",
        "ogb.utils.url.decide_download = decide_download  # Apply the patch"
      ],
      "metadata": {
        "id": "rIhS-FKbRF6F"
      },
      "execution_count": 4,
      "outputs": []
    },
    {
      "cell_type": "code",
      "source": [
        "import torch\n",
        "import torch.nn as nn\n",
        "import torch.optim as optim\n",
        "from torch_geometric.loader import DataLoader\n",
        "from sklearn.metrics import roc_auc_score\n",
        "import random\n",
        "from collections import Counter\n",
        "from ogb.graphproppred import PygGraphPropPredDataset\n",
        "import sys\n",
        "\n",
        "# Set device\n",
        "device = torch.device(\"cuda\" if torch.cuda.is_available() else \"cpu\")\n",
        "print(\"Using device:\", device)\n",
        "\n",
        "# Load dataset and splits\n",
        "dataset = PygGraphPropPredDataset(name=\"ogbg-molhiv\", root=\"dataset/\")\n",
        "split_idx = dataset.get_idx_split()\n",
        "train_loader = DataLoader(dataset[split_idx[\"train\"]], batch_size=32, shuffle=True)\n",
        "valid_loader = DataLoader(dataset[split_idx[\"valid\"]], batch_size=32, shuffle=False)\n",
        "test_loader = DataLoader(dataset[split_idx[\"test\"]], batch_size=32, shuffle=False)\n",
        "\n",
        "# Build a global vocabulary of anonymous walks from a subset of training graphs\n",
        "def build_global_anonymous_walks(graphs, walk_length=5, num_walks=100, max_graphs=100):\n",
        "    vocabulary = set()\n",
        "    for i, graph in enumerate(graphs):\n",
        "        if i >= max_graphs:\n",
        "            break\n",
        "        edge_index = graph.edge_index\n",
        "        num_nodes = graph.num_nodes\n",
        "        for _ in range(num_walks):\n",
        "            start_node = random.randint(0, num_nodes - 1)\n",
        "            walk = [start_node]\n",
        "            for _ in range(walk_length - 1):\n",
        "                neighbors = edge_index[1][edge_index[0] == walk[-1]]\n",
        "                if len(neighbors) > 0:\n",
        "                    walk.append(random.choice(neighbors.tolist()))\n",
        "            anonymous_walk = tuple(walk.index(n) for n in walk)\n",
        "            vocabulary.add(anonymous_walk)\n",
        "    return list(vocabulary)\n",
        "\n",
        "global_vocabulary = build_global_anonymous_walks(dataset[split_idx[\"train\"]], walk_length=5, num_walks=100, max_graphs=100)\n",
        "print(\"Global vocabulary size:\", len(global_vocabulary))\n",
        "\n",
        "# Generate Anonymous Walk Embeddings using a fixed vocabulary\n",
        "def generate_anonymous_walk_embeddings(batch_graphs, batch_size, walk_length=5, num_walks=100, vocabulary=None):\n",
        "    if vocabulary is None:\n",
        "        vocab_set = set()\n",
        "        batch_embeddings = []\n",
        "        for graph in batch_graphs:\n",
        "            edge_index = graph.edge_index\n",
        "            num_nodes = graph.num_nodes\n",
        "            anonymous_walk_counts = Counter()\n",
        "            for _ in range(num_walks):\n",
        "                start_node = random.randint(0, num_nodes - 1)\n",
        "                walk = [start_node]\n",
        "                for _ in range(walk_length - 1):\n",
        "                    neighbors = edge_index[1][edge_index[0] == walk[-1]]\n",
        "                    if len(neighbors) > 0:\n",
        "                        walk.append(random.choice(neighbors.tolist()))\n",
        "                anonymous_walk = tuple(walk.index(n) for n in walk)\n",
        "                anonymous_walk_counts[anonymous_walk] += 1\n",
        "                vocab_set.add(anonymous_walk)\n",
        "            batch_embeddings.append(anonymous_walk_counts)\n",
        "        vocabulary = list(vocab_set)\n",
        "    else:\n",
        "        vocabulary = list(vocabulary)\n",
        "        batch_embeddings = []\n",
        "        for graph in batch_graphs:\n",
        "            edge_index = graph.edge_index\n",
        "            num_nodes = graph.num_nodes\n",
        "            anonymous_walk_counts = Counter()\n",
        "            for _ in range(num_walks):\n",
        "                start_node = random.randint(0, num_nodes - 1)\n",
        "                walk = [start_node]\n",
        "                for _ in range(walk_length - 1):\n",
        "                    neighbors = edge_index[1][edge_index[0] == walk[-1]]\n",
        "                    if len(neighbors) > 0:\n",
        "                        walk.append(random.choice(neighbors.tolist()))\n",
        "                anonymous_walk = tuple(walk.index(n) for n in walk)\n",
        "                anonymous_walk_counts[anonymous_walk] += 1\n",
        "            batch_embeddings.append(anonymous_walk_counts)\n",
        "\n",
        "    embedding_matrix = torch.tensor(\n",
        "        [[graph.get(walk, 0) for walk in vocabulary] for graph in batch_embeddings],\n",
        "        dtype=torch.float32\n",
        "    ).to(device)\n",
        "\n",
        "    if embedding_matrix.shape[0] != batch_size:\n",
        "        print(\"Warning: Expected batch size\", batch_size, \"but got\", embedding_matrix.shape[0], \". Adjusting.\")\n",
        "        embedding_matrix = embedding_matrix[:batch_size]\n",
        "\n",
        "    return embedding_matrix, vocabulary\n",
        "\n",
        "# Use a real batch to determine input dimension (using the global vocabulary)\n",
        "batch = next(iter(train_loader))\n",
        "batch_graphs = batch.to_data_list()\n",
        "sample_batch, _ = generate_anonymous_walk_embeddings(batch_graphs, batch_size=batch.num_graphs, walk_length=5, num_walks=100, vocabulary=global_vocabulary)\n",
        "input_dim = sample_batch.shape[1]\n",
        "print(\"Detected input dimension:\", input_dim)\n",
        "\n",
        "# Define the Graph Classifier model\n",
        "class GraphClassifier(nn.Module):\n",
        "    def __init__(self, input_dim, hidden_dim=128, num_classes=1):\n",
        "        super(GraphClassifier, self).__init__()\n",
        "        self.fc1 = nn.Linear(input_dim, hidden_dim)\n",
        "        self.relu = nn.ReLU()\n",
        "        self.fc2 = nn.Linear(hidden_dim, num_classes)\n",
        "\n",
        "    def forward(self, x):\n",
        "        return self.fc2(self.relu(self.fc1(x))).view(-1, 1)\n",
        "\n",
        "# Training function with carriage return printing for batch loss updates\n",
        "def train(model, train_loader, optimizer, loss_fn, device, vocabulary):\n",
        "    model.train()\n",
        "    total_loss = 0\n",
        "    num_batches = len(train_loader)\n",
        "    for i, batch in enumerate(train_loader):\n",
        "        batch = batch.to(device)\n",
        "        labels = batch.y.float().view(-1, 1).to(device)\n",
        "        batch_graphs = batch.to_data_list()\n",
        "        embeddings, _ = generate_anonymous_walk_embeddings(batch_graphs, batch_size=batch.num_graphs, walk_length=5, num_walks=100, vocabulary=vocabulary)\n",
        "        optimizer.zero_grad()\n",
        "        outputs = model(embeddings)\n",
        "        loss = loss_fn(outputs, labels)\n",
        "        loss.backward()\n",
        "        optimizer.step()\n",
        "        total_loss += loss.item()\n",
        "        sys.stdout.write(\"\\rTrain batch {}/{} Loss: {:.4f}\".format(i+1, num_batches, loss.item()))\n",
        "        sys.stdout.flush()\n",
        "    sys.stdout.write(\"\\n\")\n",
        "    return total_loss / num_batches\n",
        "\n",
        "# Evaluation function with minimal per-batch printing\n",
        "def evaluate(model, data_loader, device, vocabulary):\n",
        "    model.eval()\n",
        "    y_true, y_pred = [], []\n",
        "    num_batches = len(data_loader)\n",
        "    with torch.no_grad():\n",
        "        for i, batch in enumerate(data_loader):\n",
        "            batch = batch.to(device)\n",
        "            labels = batch.y.float().view(-1, 1).to(device)\n",
        "            batch_graphs = batch.to_data_list()\n",
        "            embeddings, _ = generate_anonymous_walk_embeddings(batch_graphs, batch_size=batch.num_graphs, walk_length=5, num_walks=100, vocabulary=vocabulary)\n",
        "            outputs = torch.sigmoid(model(embeddings))\n",
        "            y_true.extend(labels.cpu().numpy())\n",
        "            y_pred.extend(outputs.cpu().numpy())\n",
        "            sys.stdout.write(\"\\rEval batch {}/{}\".format(i+1, num_batches))\n",
        "            sys.stdout.flush()\n",
        "    sys.stdout.write(\"\\n\")\n",
        "    return roc_auc_score(y_true, y_pred)\n",
        "\n",
        "# Initialize model, optimizer, and loss function\n",
        "model = GraphClassifier(input_dim=input_dim, num_classes=1).to(device)\n",
        "optimizer = optim.Adam(model.parameters(), lr=0.001)\n",
        "loss_fn = nn.BCEWithLogitsLoss()\n",
        "\n",
        "# Training loop with epoch summaries\n",
        "num_epochs = 5\n",
        "for epoch in range(num_epochs):\n",
        "    print(\"Epoch {}/{}\".format(epoch+1, num_epochs))\n",
        "    train_loss = train(model, train_loader, optimizer, loss_fn, device, global_vocabulary)\n",
        "    val_auc = evaluate(model, valid_loader, device, global_vocabulary)\n",
        "    print(\"Epoch {} Loss = {:.4f} Val AUC = {:.4f}\".format(epoch+1, train_loss, val_auc))\n"
      ],
      "metadata": {
        "colab": {
          "base_uri": "https://localhost:8080/"
        },
        "id": "sRJq9RPHVx3R",
        "outputId": "9583860c-7521-4cc7-85bf-1c257b15f802"
      },
      "execution_count": null,
      "outputs": [
        {
          "output_type": "stream",
          "name": "stdout",
          "text": [
            "Using device: cuda\n"
          ]
        },
        {
          "output_type": "stream",
          "name": "stderr",
          "text": [
            "/usr/local/lib/python3.11/dist-packages/ogb/graphproppred/dataset_pyg.py:68: FutureWarning: You are using `torch.load` with `weights_only=False` (the current default value), which uses the default pickle module implicitly. It is possible to construct malicious pickle data which will execute arbitrary code during unpickling (See https://github.com/pytorch/pytorch/blob/main/SECURITY.md#untrusted-models for more details). In a future release, the default value for `weights_only` will be flipped to `True`. This limits the functions that could be executed during unpickling. Arbitrary objects will no longer be allowed to be loaded via this mode unless they are explicitly allowlisted by the user via `torch.serialization.add_safe_globals`. We recommend you start setting `weights_only=True` for any use case where you don't have full control of the loaded file. Please open an issue on GitHub for any issues related to this experimental feature.\n",
            "  self.data, self.slices = torch.load(self.processed_paths[0])\n"
          ]
        },
        {
          "output_type": "stream",
          "name": "stdout",
          "text": [
            "Global vocabulary size: 13\n",
            "Detected input dimension: 13\n",
            "Epoch 1/5\n",
            "Train batch 609/1029 Loss: 0.0297"
          ]
        }
      ]
    }
  ]
}